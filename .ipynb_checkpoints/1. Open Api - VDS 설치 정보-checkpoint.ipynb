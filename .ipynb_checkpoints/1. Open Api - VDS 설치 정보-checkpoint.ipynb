{
 "cells": [
  {
   "cell_type": "markdown",
   "metadata": {},
   "source": [
    "# 1. 라이브러리 불러오기"
   ]
  },
  {
   "cell_type": "code",
   "execution_count": 1,
   "metadata": {},
   "outputs": [],
   "source": [
    "import pandas as pd\n",
    "\n",
    "import time\n",
    "import requests\n",
    "import warnings\n",
    "warnings.filterwarnings(action = 'ignore')\n",
    "\n",
    "from selenium import webdriver\n",
    "from bs4 import BeautifulSoup\n",
    "\n",
    "from pyproj import Proj\n",
    "from pyproj import transform"
   ]
  },
  {
   "cell_type": "code",
   "execution_count": 2,
   "metadata": {},
   "outputs": [],
   "source": [
    "# WGS84 좌표계\n",
    "WGS84 = {'proj':'latlong', 'datum':'WGS84', 'ellps':'WGS84'}\n",
    "\n",
    "# GRS80 좌표계\n",
    "GRS80 = { 'proj':'tmerc', 'lat_0':'38', 'lon_0':'127', 'k':1, 'x_0':200000, 'y_0':600000, 'ellps':'GRS80', 'units':'m' }"
   ]
  },
  {
   "cell_type": "code",
   "execution_count": 3,
   "metadata": {},
   "outputs": [],
   "source": [
    "# GRS80 좌표를 WGS84 좌표로 바꿔주는 함수 생성\n",
    "def grs80_to_wgs84(data):\n",
    "    return pd.Series(transform(Proj(**GRS80), Proj(**WGS84), data['GRS80_X좌표'], data['GRS80_Y좌표']))"
   ]
  },
  {
   "cell_type": "code",
   "execution_count": 26,
   "metadata": {},
   "outputs": [],
   "source": [
    "# Open Api로 수집되는 데이터를 저장하기 위한 리스트 객체 생성\n",
    "czid_list = []\n",
    "directioncode_list = []\n",
    "grs80x_list = []\n",
    "grs80y_list = []\n",
    "roadgradecode_list = []\n",
    "roadgradename_list = [] \n",
    "routename_list = []\n",
    "routeno_list = []\n",
    "shift_list = []\n",
    "vdscode_list = []\n",
    "vdsendshift_list = []\n",
    "vdsid_list = []\n",
    "vdslength_list = []\n",
    "vdsname_list = []\n",
    "vdsstartshift_list = []"
   ]
  },
  {
   "cell_type": "code",
   "execution_count": 27,
   "metadata": {},
   "outputs": [],
   "source": [
    "for i in range(1, 10):\n",
    "    url = 'http://data.ex.co.kr/openapi/vdsinfo/vdsList?key=1908225472&type=xml&numOfRows=100&pageNo={}'.format(i)\n",
    "    req = requests.get(url)\n",
    "    soup = BeautifulSoup(req.text, 'lxml')\n",
    "    \n",
    "    czid = soup.find_all('czid')\n",
    "    directioncode = soup.find_all('directioncode')\n",
    "    grs80x = soup.find_all('grs80x')\n",
    "    grs80y = soup.find_all('grs80y')\n",
    "    roadgradecode = soup.find_all('roadgradecode')\n",
    "    roadgradename = soup.find_all('roadgradename')\n",
    "    routename = soup.find_all('routename')\n",
    "    routeno = soup.find_all('routeno')\n",
    "    shift = soup.find_all('shift')\n",
    "    vdscode = soup.find_all('vdscode')\n",
    "    vdsendshift = soup.find_all('vdsendshift')\n",
    "    vdsid = soup.find_all('vdsid')\n",
    "    vdslength = soup.find_all('vdslength')\n",
    "    vdsname = soup.find_all('vdsname')\n",
    "    vdsstartshift = soup.find_all('vdsstartshift')\n",
    "    \n",
    "    for item in czid:\n",
    "        czid_list.append(item.text)\n",
    "    for item in directioncode:\n",
    "        directioncode_list.append(item.text)\n",
    "    for item in grs80x:\n",
    "        grs80x_list.append(item.text)\n",
    "    for item in grs80y:\n",
    "        grs80y_list.append(item.text)\n",
    "    for item in roadgradecode:\n",
    "        roadgradecode_list.append(item.text)\n",
    "    for item in roadgradename:\n",
    "        roadgradename_list.append(item.text)\n",
    "    for item in routename:\n",
    "        routename_list.append(item.text)\n",
    "    for item in routeno:\n",
    "        routeno_list.append(item.text)\n",
    "    for item in shift:\n",
    "        shift_list.append(item.text)\n",
    "    for item in vdscode:\n",
    "        vdscode_list.append(item.text)\n",
    "    for item in vdsendshift:\n",
    "        vdsendshift_list.append(item.text)\n",
    "    for item in vdsid:\n",
    "        vdsid_list.append(item.text)\n",
    "    for item in vdslength:\n",
    "        vdslength_list.append(item.text)\n",
    "    for item in vdsname:\n",
    "        vdsname_list.append(item.text)\n",
    "    for item in vdsstartshift:\n",
    "        vdsstartshift_list.append(item.text)"
   ]
  },
  {
   "cell_type": "code",
   "execution_count": 28,
   "metadata": {},
   "outputs": [],
   "source": [
    "VDS_data = pd.DataFrame()\n",
    "\n",
    "VDS_data['VDS_ID'] = vdsid_list\n",
    "VDS_data['GRS80_X좌표'] = grs80x_list\n",
    "VDS_data['GRS80_Y좌표'] = grs80y_list\n",
    "VDS_data['지점이정'] = shift_list\n",
    "VDS_data['VDS존_시작이정'] = vdsstartshift_list\n",
    "VDS_data['VDS존_종료이정'] = vdsendshift_list\n",
    "VDS_data['노선번호'] = routeno_list\n",
    "VDS_data['도로명'] = routename_list\n",
    "VDS_data['VDS존_유형구분코드'] = vdscode_list\n",
    "VDS_data['VDS존_유형구분명'] = vdsname_list\n",
    "VDS_data['기점종점방향구분코드'] = directioncode_list\n",
    "VDS_data['VDS존 길이'] = vdslength_list\n",
    "VDS_data['도로등급구분코드'] = roadgradecode_list\n",
    "VDS_data['도로등급구분명'] = roadgradename_list\n",
    "VDS_data['콘존ID'] = czid_list"
   ]
  },
  {
   "cell_type": "code",
   "execution_count": 29,
   "metadata": {},
   "outputs": [
    {
     "data": {
      "text/plain": [
       "경부선           833\n",
       "남해선(순천-부산)     58\n",
       "Name: 도로명, dtype: int64"
      ]
     },
     "execution_count": 29,
     "metadata": {},
     "output_type": "execute_result"
    }
   ],
   "source": [
    "VDS_data['도로명'].value_counts()"
   ]
  },
  {
   "cell_type": "code",
   "execution_count": 30,
   "metadata": {},
   "outputs": [
    {
     "data": {
      "text/plain": [
       "(833, 15)"
      ]
     },
     "execution_count": 30,
     "metadata": {},
     "output_type": "execute_result"
    }
   ],
   "source": [
    "VDS_경부선_data = VDS_data[VDS_data['도로명'] == '경부선']\n",
    "VDS_경부선_data.shape"
   ]
  },
  {
   "cell_type": "code",
   "execution_count": 31,
   "metadata": {},
   "outputs": [],
   "source": [
    "# 'grs80_to_wgs84' 함수를 사용하여 좌표 변환\n",
    "VDS_경부선_data[['WGS84_X좌표', 'WGS84_Y좌표']] = VDS_경부선_data.apply(grs80_to_wgs84, axis = 1)"
   ]
  },
  {
   "cell_type": "code",
   "execution_count": 33,
   "metadata": {},
   "outputs": [
    {
     "data": {
      "text/html": [
       "<div>\n",
       "<style scoped>\n",
       "    .dataframe tbody tr th:only-of-type {\n",
       "        vertical-align: middle;\n",
       "    }\n",
       "\n",
       "    .dataframe tbody tr th {\n",
       "        vertical-align: top;\n",
       "    }\n",
       "\n",
       "    .dataframe thead th {\n",
       "        text-align: right;\n",
       "    }\n",
       "</style>\n",
       "<table border=\"1\" class=\"dataframe\">\n",
       "  <thead>\n",
       "    <tr style=\"text-align: right;\">\n",
       "      <th></th>\n",
       "      <th>VDS_ID</th>\n",
       "      <th>GRS80_X좌표</th>\n",
       "      <th>GRS80_Y좌표</th>\n",
       "      <th>지점이정</th>\n",
       "      <th>VDS존_시작이정</th>\n",
       "      <th>VDS존_종료이정</th>\n",
       "      <th>노선번호</th>\n",
       "      <th>도로명</th>\n",
       "      <th>VDS존_유형구분코드</th>\n",
       "      <th>VDS존_유형구분명</th>\n",
       "      <th>기점종점방향구분코드</th>\n",
       "      <th>VDS존 길이</th>\n",
       "      <th>도로등급구분코드</th>\n",
       "      <th>도로등급구분명</th>\n",
       "      <th>콘존ID</th>\n",
       "      <th>WGS84_X좌표</th>\n",
       "      <th>WGS84_Y좌표</th>\n",
       "    </tr>\n",
       "  </thead>\n",
       "  <tbody>\n",
       "    <tr>\n",
       "      <td>0</td>\n",
       "      <td>0010VDE00100</td>\n",
       "      <td>391265.168631</td>\n",
       "      <td>297630.018242</td>\n",
       "      <td>1.40km</td>\n",
       "      <td>0.20km</td>\n",
       "      <td>2.02km</td>\n",
       "      <td>0010</td>\n",
       "      <td>경부선</td>\n",
       "      <td>1</td>\n",
       "      <td>FTMS 본선 VDS</td>\n",
       "      <td>E</td>\n",
       "      <td>1820.00m</td>\n",
       "      <td>101</td>\n",
       "      <td>고속국도</td>\n",
       "      <td>0010CZE010</td>\n",
       "      <td>129.101614</td>\n",
       "      <td>35.256977</td>\n",
       "    </tr>\n",
       "    <tr>\n",
       "      <td>1</td>\n",
       "      <td>0010VDE00200</td>\n",
       "      <td>391642.598473</td>\n",
       "      <td>298552.156640</td>\n",
       "      <td>2.40km</td>\n",
       "      <td>2.02km</td>\n",
       "      <td>2.85km</td>\n",
       "      <td>0010</td>\n",
       "      <td>경부선</td>\n",
       "      <td>1</td>\n",
       "      <td>FTMS 본선 VDS</td>\n",
       "      <td>E</td>\n",
       "      <td>830.00m</td>\n",
       "      <td>101</td>\n",
       "      <td>고속국도</td>\n",
       "      <td>0010CZE011</td>\n",
       "      <td>129.105973</td>\n",
       "      <td>35.265211</td>\n",
       "    </tr>\n",
       "    <tr>\n",
       "      <td>2</td>\n",
       "      <td>0010VDE00300</td>\n",
       "      <td>391873.613139</td>\n",
       "      <td>299421.826509</td>\n",
       "      <td>3.30km</td>\n",
       "      <td>2.85km</td>\n",
       "      <td>4.01km</td>\n",
       "      <td>0010</td>\n",
       "      <td>경부선</td>\n",
       "      <td>1</td>\n",
       "      <td>FTMS 본선 VDS</td>\n",
       "      <td>E</td>\n",
       "      <td>1160.00m</td>\n",
       "      <td>101</td>\n",
       "      <td>고속국도</td>\n",
       "      <td>0010CZE011</td>\n",
       "      <td>129.108714</td>\n",
       "      <td>35.273000</td>\n",
       "    </tr>\n",
       "  </tbody>\n",
       "</table>\n",
       "</div>"
      ],
      "text/plain": [
       "         VDS_ID      GRS80_X좌표      GRS80_Y좌표    지점이정 VDS존_시작이정 VDS존_종료이정  \\\n",
       "0  0010VDE00100  391265.168631  297630.018242  1.40km    0.20km    2.02km   \n",
       "1  0010VDE00200  391642.598473  298552.156640  2.40km    2.02km    2.85km   \n",
       "2  0010VDE00300  391873.613139  299421.826509  3.30km    2.85km    4.01km   \n",
       "\n",
       "   노선번호  도로명 VDS존_유형구분코드   VDS존_유형구분명 기점종점방향구분코드   VDS존 길이 도로등급구분코드 도로등급구분명  \\\n",
       "0  0010  경부선           1  FTMS 본선 VDS          E  1820.00m      101    고속국도   \n",
       "1  0010  경부선           1  FTMS 본선 VDS          E   830.00m      101    고속국도   \n",
       "2  0010  경부선           1  FTMS 본선 VDS          E  1160.00m      101    고속국도   \n",
       "\n",
       "         콘존ID   WGS84_X좌표  WGS84_Y좌표  \n",
       "0  0010CZE010  129.101614  35.256977  \n",
       "1  0010CZE011  129.105973  35.265211  \n",
       "2  0010CZE011  129.108714  35.273000  "
      ]
     },
     "execution_count": 33,
     "metadata": {},
     "output_type": "execute_result"
    }
   ],
   "source": [
    "VDS_경부선_data.head(3)"
   ]
  },
  {
   "cell_type": "code",
   "execution_count": null,
   "metadata": {},
   "outputs": [],
   "source": [
    "VDS_경부선_data.to_csv('경부선 VDS 설치정보.csv', encoding = 'CP949')"
   ]
  }
 ],
 "metadata": {
  "kernelspec": {
   "display_name": "Python 3 (ipykernel)",
   "language": "python",
   "name": "python3"
  },
  "language_info": {
   "codemirror_mode": {
    "name": "ipython",
    "version": 3
   },
   "file_extension": ".py",
   "mimetype": "text/x-python",
   "name": "python",
   "nbconvert_exporter": "python",
   "pygments_lexer": "ipython3",
   "version": "3.9.7"
  }
 },
 "nbformat": 4,
 "nbformat_minor": 4
}
